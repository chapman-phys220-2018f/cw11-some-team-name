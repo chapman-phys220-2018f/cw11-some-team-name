{
 "cells": [
  {
   "cell_type": "markdown",
   "metadata": {
    "collapsed": false
   },
   "source": [
    "Name: Jacob Anabi, Gage Kizzar\n",
    "\n",
    "Student ID: 2294644,2291700\n",
    "\n",
    "Email: anabi@chapman.edu, kizzar@chapman.edu\n",
    "\n",
    "Course: PHYS220/MATH220/CPSC220 Fall 2018\n",
    "\n",
    "Assignment: CW11"
   ]
  },
  {
   "cell_type": "markdown",
   "metadata": {
    "collapsed": false
   },
   "source": [
    "# Abstract"
   ]
  },
  {
   "cell_type": "markdown",
   "metadata": {
    "collapsed": false
   },
   "source": [
    "In this paper we will be comparing a variety of methods to solve differential equations. The four methods that we will use are: Euler's Method, Heun's Method, and the 2nd and 4th order Runge-Kutta Methods. All of the methods have different strengths and weaknesses, and we hope to compare these in this paper."
   ]
  },
  {
   "cell_type": "markdown",
   "metadata": {
    "collapsed": false
   },
   "source": [
    "# Introduction"
   ]
  },
  {
   "cell_type": "markdown",
   "metadata": {
    "collapsed": false
   },
   "source": [
    "Rememember from CW10 that there are many analytical methods to solve an ordinary differential equation (ODE). These methods include:\n",
    "\n",
    "Euler's Method, Heun's (Trapezoid) Method, 2nd-order Runge-Kutta Method, and 4th-order Runge-Kutta Method."
   ]
  },
  {
   "cell_type": "markdown",
   "metadata": {
    "collapsed": false
   },
   "source": [
    "# Coupled ODE Example"
   ]
  },
  {
   "cell_type": "markdown",
   "metadata": {
    "collapsed": false
   },
   "source": [
    "Let's consider the coupled set of ODEs with initial conditions $x(0) = 1$, $v(0) = 0$:\n",
    "\n",
    "   $$x'(t) = v(t)$$\n",
    "   $$v'(t) = -x(t)$$\n",
    "\n",
    "If $x(t) = \\cos(t)$, then $v(t) = x'(t) = -\\sin(t)$\n",
    "\n",
    "So, $v'(t) = -\\cos(t) = -x(t)$\n",
    "\n",
    "Thus, $x(t) = \\cos(t)$ and $v(t) = -\\sin(t)$ satisfies these equations. This solution can represent some sort of oscillation of a physical system."
   ]
  },
  {
   "cell_type": "markdown",
   "metadata": {
    "collapsed": false
   },
   "source": [
    "# Methods"
   ]
  },
  {
   "cell_type": "markdown",
   "metadata": {
    "collapsed": false
   },
   "source": [
    "To solve the following equation with the aformentioned methods, we will state:\n",
    "$$\\vec{r}'(t) = \\hat{J}\\vec{r}$$\n",
    "where $\\vec{r}(t) = [x(t), v(t)]$ is a column vector with initial condition $\\vec{r}(0) = [1,0]$, such that the coordinates are coupled by an antisymmetric matrix (meaning its transpose equals its negative):\n",
    "$$\\hat{J} = \\begin{bmatrix} 0 & 1 \\\\ -1 & 0 \\end{bmatrix}$$\n",
    "This solution should be $\\vec{r}(t) = \\exp(t\\hat{J})\\vec{r}(0)$.\n",
    "\n",
    "NOTE: $\\exp(t\\hat{J}) = \\hat{I}\\sum_{n=0}^\\infty t^{2n}(-1)^n/(2n)! + \\hat{J}\\sum_{n=1}^\\infty t^{2n-1}(-1)^{n-1}/(2n-1)! = \\hat{I}\\cos(t) + \\hat{J}\\sin(t)$\n",
    "\n",
    "We will solve this differential equation from $t=0$ until $t= 5(2\\pi)$ using $N$ time steps per period (so $\\Delta t = 2\\pi / N$)."
   ]
  },
  {
   "cell_type": "markdown",
   "metadata": {
    "collapsed": false
   },
   "source": [
    "## Euler's Method"
   ]
  },
  {
   "cell_type": "markdown",
   "metadata": {
    "collapsed": false
   },
   "source": [
    "For refamilirization, Euler's Method, which is accurate to 1st-order, is defined as:\n",
    "$$u_{k+1} = u_k + \\Delta t\\, f[t_k, u_k]$$\n",
    "where $f[t, u(t)]$ is the slope of $u(t)$ at some domain point $t$.\n",
    "\n",
    "For clarity sake, we will rewrite this in terms of vectors:\n",
    "$$\\vec{r}(t_{k+1}) = \\vec{r}(t_k) + \\Delta t\\, \\vec{r}'(t_k)$$\n",
    "Subsituting $\\Delta t = 2\\pi / N$, we get:\n",
    "$$\\vec{r}(t_{k+1}) = \\vec{r}(t_k) + 2\\pi / N\\, \\vec{r}'(t_k)$$\n",
    "Substituting $$\\vec{r}'(t) = \\hat{J}\\vec{r}$$ we get:\n",
    "$$\\vec{r}(t_{k+1}) = \\vec{r}(t_k) + 2\\pi / N\\, \\hat{J}\\vec{r}(t_k)$$"
   ]
  },
  {
   "cell_type": "markdown",
   "metadata": {
    "collapsed": false
   },
   "source": [
    "## Heun's (Trapezoidal) Method"
   ]
  },
  {
   "cell_type": "markdown",
   "metadata": {
    "collapsed": false
   },
   "source": [
    "The functions that we use to analyze a function using Heun's method is defined as:\n",
    "$$slope_{left} = f[x_n,y_n]$$\n",
    "$$(x_{n+1},y_{n+1}) = (x_n+h,y_n+hf(x_n,y_n))$$\n",
    "$$slope_{right}= f(x_n+h,y_n+hf(x_n,y_n))$$\n",
    "$$(x_{n+1},y_{n+1}) = 1/2(slope_{left}+slope_{right})$$\n",
    "If we substitute relevant information from the example, we will get:\n",
    "$$slope_{t} = f[t,u(t)]$$\n",
    "$$\\vec{r}(t_{k+\\Delta t}) = (x_t+\\Delta t, y_t + \\Delta t f(t,u(t)))$$\n",
    "$$slope_{t+\\Delta t} = f[t+\\Delta t,u(t) + \\Delta t f[t,u(t)]]$$\n",
    "$$\\vec{r}(t_{k+\\Delta t}) = 1/2(slope_{t}+slope_{t+\\Delta t})$$"
   ]
  },
  {
   "cell_type": "markdown",
   "metadata": {
    "collapsed": false
   },
   "source": [
    "## 2nd Order Runge-Kutta Method"
   ]
  },
  {
   "cell_type": "markdown",
   "metadata": {
    "collapsed": false
   },
   "source": [
    "The form for using the 2nd Order Runge-Kutta in our example is the following:\n",
    "$$k_1 = \\Delta t f[t,u(t)]$$\n",
    "$$k_2 = \\Delta t f[x_t+(1/2)\\Delta t,y_t+(1/2)k_1$$\n",
    "$$y_{t+1}=y_t+k_2+O((\\Delta t)^3)$$"
   ]
  },
  {
   "cell_type": "code",
   "execution_count": 0,
   "metadata": {
    "collapsed": false
   },
   "outputs": [
   ],
   "source": [
   ]
  }
 ],
 "metadata": {
  "kernelspec": {
   "display_name": "Python 3 (Anaconda 5)",
   "language": "python",
   "name": "anaconda5"
  },
  "language_info": {
   "codemirror_mode": {
    "name": "ipython",
    "version": 3
   },
   "file_extension": ".py",
   "mimetype": "text/x-python",
   "name": "python",
   "nbconvert_exporter": "python",
   "pygments_lexer": "ipython3",
   "version": "3.6.5"
  }
 },
 "nbformat": 4,
 "nbformat_minor": 0
}